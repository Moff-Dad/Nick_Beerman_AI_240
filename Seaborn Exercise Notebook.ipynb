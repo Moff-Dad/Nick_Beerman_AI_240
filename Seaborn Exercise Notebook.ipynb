{
 "cells": [
  {
   "cell_type": "markdown",
   "metadata": {},
   "source": [
    "# Seaborn Exercise  AI240 - 10459\n",
    "# Instructor - Dr. Uma Gajendragadkar\n",
    "\n",
    "We are going to use iris dataset to learn Seaborn Library\n",
    "# Exercise 1 - \n",
    "\n",
    "Install Seaborn library with below command\n",
    "\n",
    "!pip install seaborn\n",
    "\n",
    "Import seaborn library with below command and load iris dataset and check top few rows of the data\n",
    "\n",
    "from matplotlib import pyplot as plt\n",
    "\n",
    "%matplotlib inline\n",
    "\n",
    "import seaborn as sns\n",
    "\n",
    "iris = sns.load_dataset('iris')\n",
    "\n",
    "iris.head()\n"
   ]
  },
  {
   "cell_type": "code",
   "execution_count": null,
   "metadata": {},
   "outputs": [],
   "source": []
  },
  {
   "cell_type": "markdown",
   "metadata": {},
   "source": [
    "# Exercise 2 - Draw a pairplot\n",
    "Look at the output generated in Exercise 1. \n",
    "Each row of the data represents a single observed flower and the number of rows represents the total number of flowers in the dataset. The rows of the matrix are called as samples. The columns of the matrix are called as features.\n",
    "\n",
    "From iris dataset we predict the species of flower based on the other measurements. In this case, the Species column would be considered as the feature.\n",
    "Execute below lines of code and check the output\n",
    "\n",
    "iris = sns.load_dataset('iris')\n",
    "\n",
    "sns.pairplot(iris, hue='species', height=3)\n"
   ]
  },
  {
   "cell_type": "code",
   "execution_count": null,
   "metadata": {},
   "outputs": [],
   "source": []
  },
  {
   "cell_type": "markdown",
   "metadata": {},
   "source": [
    "# Exercise 3 - Draw a boxplot\n",
    "\n",
    "plt.figure(figsize=(10,8)) \n",
    "\n",
    "sns.boxplot(data=iris)\n"
   ]
  },
  {
   "cell_type": "code",
   "execution_count": null,
   "metadata": {},
   "outputs": [],
   "source": []
  },
  {
   "cell_type": "markdown",
   "metadata": {},
   "source": [
    "# Exercise 4 - Draw a violin plot\n",
    "\n",
    "species_colors = ['#78C850',  # Setosa\n",
    "                    '#F08030',  # Versicolor\n",
    "                    '#6890F0',  # Verginica\n",
    "                  ]\n",
    "                  \n",
    "sns.violinplot( data=iris, palette=species_colors)"
   ]
  },
  {
   "cell_type": "code",
   "execution_count": null,
   "metadata": {},
   "outputs": [],
   "source": []
  },
  {
   "cell_type": "markdown",
   "metadata": {},
   "source": [
    "# Exercise 5 - Draw a Histogram\n",
    " Histogram\n",
    "A histogram is a bar graph-like representation of data that buckets a range of classes into columns along the horizontal x-axis.\n",
    "\n",
    "1)\n",
    "\n",
    "sns.histplot(iris, x='petal_length', kde=True)\n",
    "\n",
    "2) Also try below code with another dataset\n",
    "\n",
    "penguins = sns.load_dataset(\"penguins\")\n",
    "\n",
    "sns.histplot(data=penguins, x=\"flipper_length_mm\")"
   ]
  },
  {
   "cell_type": "code",
   "execution_count": null,
   "metadata": {},
   "outputs": [],
   "source": []
  },
  {
   "cell_type": "markdown",
   "metadata": {},
   "source": [
    "# Exercise 6 - Draw a Swarm Plot\n",
    "\n",
    "A swarm plot is another way of plotting the distribution of an attribute or the joint distribution of a couple of attributes.\n",
    "\n",
    "Create a Swarm plot of Petal length across the species.\n",
    " \n",
    "sns.swarmplot(y='petal_length', x='species', data=iris, palette=species_colors)"
   ]
  },
  {
   "cell_type": "code",
   "execution_count": null,
   "metadata": {},
   "outputs": [],
   "source": []
  },
  {
   "cell_type": "markdown",
   "metadata": {},
   "source": [
    "# Exercise 7 - Draw a Bar Plot\n",
    "\n",
    "A bar chart or bar graph is a chart or graph that presents categorical data with rectangular bars with heights or lengths proportional to the values that they represent. The bars can be plotted vertically or horizontally. A vertical bar chart is sometimes called a column chart.\n",
    "Execute below command\n",
    "\n",
    "sns.barplot(penguins, x=\"island\", y=\"body_mass_g\")\n"
   ]
  },
  {
   "cell_type": "code",
   "execution_count": null,
   "metadata": {},
   "outputs": [],
   "source": []
  },
  {
   "cell_type": "markdown",
   "metadata": {},
   "source": [
    "# Exercise 8 - Draw a Heatmap Plot\n",
    "\n",
    "corrmat = iris.corr()\n",
    "\n",
    "sns.heatmap(corrmat, annot = True, square = True)\n"
   ]
  },
  {
   "cell_type": "code",
   "execution_count": null,
   "metadata": {},
   "outputs": [],
   "source": []
  },
  {
   "cell_type": "code",
   "execution_count": null,
   "metadata": {},
   "outputs": [],
   "source": []
  }
 ],
 "metadata": {
  "kernelspec": {
   "display_name": "Python 3",
   "language": "python",
   "name": "python3"
  },
  "language_info": {
   "codemirror_mode": {
    "name": "ipython",
    "version": 3
   },
   "file_extension": ".py",
   "mimetype": "text/x-python",
   "name": "python",
   "nbconvert_exporter": "python",
   "pygments_lexer": "ipython3",
   "version": "3.7.1"
  }
 },
 "nbformat": 4,
 "nbformat_minor": 2
}
